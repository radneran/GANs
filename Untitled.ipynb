{
 "cells": [
  {
   "cell_type": "code",
   "execution_count": 9,
   "metadata": {},
   "outputs": [],
   "source": [
    "import matplotlib.pyplot as plt\n",
    "import numpy as np\n",
    "\n",
    "import torch.optim as optim\n",
    "\n",
    "from mog_eigval_dist import *\n",
    "from model import *"
   ]
  },
  {
   "cell_type": "code",
   "execution_count": null,
   "metadata": {},
   "outputs": [],
   "source": [
    "class ConsensusOptimizer:\n",
    "    def __init__(self, learning_rate, alpha=0.1, beta=0.9, eps=1e-8):\n",
    "        self.optimizer = optim.RMSprop(learning_rate)  #optim.RMSPropOptimizer(learning_rate)\n",
    "        self._eps = eps\n",
    "        self._alpha = alpha\n",
    "        self._beta = beta\n",
    "    \n",
    "    def conciliate(self, d_loss, g_loss, d_vars, g_vars, global_step=None):\n",
    "        alpha = self._alpha\n",
    "        beta = self._beta\n",
    "        \n",
    "        d_grads = torch.autograd.grad(d_loss, d_vars)\n",
    "        g_grads = torch.autograd.grad(g_loss, g_vars)\n",
    "        \n",
    "        \n",
    "\n",
    "# Consensus optimization, method presented in the paper\n",
    "class ConsensusOptimizer(object):\n",
    "    def __init__(self, learning_rate, alpha=0.1, beta=0.9, eps=1e-8):\n",
    "        self.optimizer = tf.train.RMSPropOptimizer(learning_rate)\n",
    "        self._eps = eps\n",
    "        self._alpha = alpha\n",
    "        self._beta = beta\n",
    "\n",
    "    def conciliate(self, d_loss, g_loss, d_vars, g_vars, global_step=None):\n",
    "        alpha = self._alpha\n",
    "        beta = self._beta\n",
    "\n",
    "        # Compute gradients\n",
    "        d_grads = tf.gradients(d_loss, d_vars)\n",
    "        g_grads = tf.gradients(g_loss, g_vars)\n",
    "\n",
    "        # Merge variable and gradient lists\n",
    "        variables = d_vars + g_vars\n",
    "        grads = d_grads + g_grads\n",
    "\n",
    "        # Reguliarizer\n",
    "        reg = 0.5 * sum(\n",
    "            tf.reduce_sum(tf.square(g)) for g in grads\n",
    "        )\n",
    "        # Jacobian times gradiant\n",
    "        Jgrads = tf.gradients(reg, variables)\n",
    "\n",
    "        # Gradient updates\n",
    "        apply_vec = [\n",
    "             (g + self._alpha * Jg, v)\n",
    "             for (g, Jg, v) in zip(grads, Jgrads, variables) if Jg is not None\n",
    "        ]\n",
    "\n",
    "        train_op = self.optimizer.apply_gradients(apply_vec)\n",
    "\n",
    "return [train_op]"
   ]
  },
  {
   "cell_type": "code",
   "execution_count": 17,
   "metadata": {},
   "outputs": [
    {
     "name": "stdout",
     "output_type": "stream",
     "text": [
      "tensor([[ 0.2995],\n",
      "        [-1.1665]], requires_grad=True) tensor([[ 0.],\n",
      "        [-0.]], grad_fn=<MulBackward>)\n",
      "tensor([[-1.1577],\n",
      "        [ 0.6610]], requires_grad=True) tensor(-0.5589, grad_fn=<MeanBackward1>)\n",
      "(tensor([[-0.5788],\n",
      "        [ 0.3305]]),)\n"
     ]
    }
   ],
   "source": [
    "W = torch.randn([2,1])\n",
    "W.requires_grad = True\n",
    "b = W*0\n",
    "\n",
    "print(W, b)\n",
    "def f(x):\n",
    "    return W*x + b\n",
    "\n",
    "inputs = torch.randn([2,1])\n",
    "inputs.requires_grad = True\n",
    "y = f(inputs).mean()\n",
    "# dy/dx = W\n",
    "\n",
    "print(inputs, y)\n",
    "print(torch.autograd.grad(y, W))"
   ]
  },
  {
   "cell_type": "code",
   "execution_count": null,
   "metadata": {},
   "outputs": [],
   "source": []
  }
 ],
 "metadata": {
  "kernelspec": {
   "display_name": "Python 3",
   "language": "python",
   "name": "python3"
  },
  "language_info": {
   "codemirror_mode": {
    "name": "ipython",
    "version": 3
   },
   "file_extension": ".py",
   "mimetype": "text/x-python",
   "name": "python",
   "nbconvert_exporter": "python",
   "pygments_lexer": "ipython3",
   "version": "3.6.3"
  }
 },
 "nbformat": 4,
 "nbformat_minor": 2
}
